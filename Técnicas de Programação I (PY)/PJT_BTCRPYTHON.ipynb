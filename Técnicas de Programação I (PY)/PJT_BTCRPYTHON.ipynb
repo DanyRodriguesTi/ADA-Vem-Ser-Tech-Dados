{
  "nbformat": 4,
  "nbformat_minor": 0,
  "metadata": {
    "colab": {
      "provenance": []
    },
    "kernelspec": {
      "name": "python3",
      "display_name": "Python 3"
    },
    "language_info": {
      "name": "python"
    }
  },
  "cells": [
    {
      "cell_type": "markdown",
      "source": [
        "# Obtenção de dados"
      ],
      "metadata": {
        "id": "J3GFr0U-6KUk"
      }
    },
    {
      "cell_type": "code",
      "execution_count": null,
      "metadata": {
        "id": "F_kSgjrzxBU3",
        "colab": {
          "base_uri": "https://localhost:8080/"
        },
        "outputId": "04e16876-19ac-47f5-9479-a03cf95693a1"
      },
      "outputs": [
        {
          "output_type": "stream",
          "name": "stdout",
          "text": [
            "Cloning into 'classroom-datasets'...\n",
            "remote: Enumerating objects: 544, done.\u001b[K\n",
            "remote: Counting objects: 100% (544/544), done.\u001b[K\n",
            "remote: Compressing objects: 100% (511/511), done.\u001b[K\n",
            "remote: Total 544 (delta 51), reused 514 (delta 21), pack-reused 0\u001b[K\n",
            "Receiving objects: 100% (544/544), 2.31 MiB | 7.76 MiB/s, done.\n",
            "Resolving deltas: 100% (51/51), done.\n"
          ]
        }
      ],
      "source": [
        "!git clone https://github.com/ProfLeandroLessa/classroom-datasets.git"
      ]
    },
    {
      "cell_type": "code",
      "source": [
        "import pandas as pd\n",
        "import numpy as np"
      ],
      "metadata": {
        "id": "QNRPfVS-3-pc"
      },
      "execution_count": null,
      "outputs": []
    },
    {
      "cell_type": "code",
      "source": [
        "vendas_produtos=pd.read_csv('/content/classroom-datasets/ANC/BTC 3/TP/vendas_produtos_financeiros.csv',sep=';',encoding='latin-1')"
      ],
      "metadata": {
        "id": "iCBmwRdu4dFC"
      },
      "execution_count": null,
      "outputs": []
    },
    {
      "cell_type": "code",
      "source": [
        "vendas_produtos.head()"
      ],
      "metadata": {
        "colab": {
          "base_uri": "https://localhost:8080/",
          "height": 206
        },
        "id": "MtPWiMCG4nbN",
        "outputId": "18b7c6de-30a3-439c-952a-4b942d6c7f86"
      },
      "execution_count": null,
      "outputs": [
        {
          "output_type": "execute_result",
          "data": {
            "text/plain": [
              "      Produto  Quantidade  Preco_Unitario  Valor_Total              Data  \\\n",
              "0  Produto 10           5            6.03        30.15  05/10/2023 10:03   \n",
              "1   Produto 2           9           20.48       184.32  17/03/2023 14:03   \n",
              "2   Produto 5           3           25.39        76.17  20/04/2023 09:03   \n",
              "3   Produto 6           3           10.73        32.19  21/09/2023 15:03   \n",
              "4   Produto 8           4           34.67       138.68  04/09/2023 01:03   \n",
              "\n",
              "  Estado  \n",
              "0     RS  \n",
              "1     RJ  \n",
              "2     BA  \n",
              "3     AM  \n",
              "4     SP  "
            ],
            "text/html": [
              "\n",
              "  <div id=\"df-d270f287-4cc0-44fe-8952-2bf987d5a68e\" class=\"colab-df-container\">\n",
              "    <div>\n",
              "<style scoped>\n",
              "    .dataframe tbody tr th:only-of-type {\n",
              "        vertical-align: middle;\n",
              "    }\n",
              "\n",
              "    .dataframe tbody tr th {\n",
              "        vertical-align: top;\n",
              "    }\n",
              "\n",
              "    .dataframe thead th {\n",
              "        text-align: right;\n",
              "    }\n",
              "</style>\n",
              "<table border=\"1\" class=\"dataframe\">\n",
              "  <thead>\n",
              "    <tr style=\"text-align: right;\">\n",
              "      <th></th>\n",
              "      <th>Produto</th>\n",
              "      <th>Quantidade</th>\n",
              "      <th>Preco_Unitario</th>\n",
              "      <th>Valor_Total</th>\n",
              "      <th>Data</th>\n",
              "      <th>Estado</th>\n",
              "    </tr>\n",
              "  </thead>\n",
              "  <tbody>\n",
              "    <tr>\n",
              "      <th>0</th>\n",
              "      <td>Produto 10</td>\n",
              "      <td>5</td>\n",
              "      <td>6.03</td>\n",
              "      <td>30.15</td>\n",
              "      <td>05/10/2023 10:03</td>\n",
              "      <td>RS</td>\n",
              "    </tr>\n",
              "    <tr>\n",
              "      <th>1</th>\n",
              "      <td>Produto 2</td>\n",
              "      <td>9</td>\n",
              "      <td>20.48</td>\n",
              "      <td>184.32</td>\n",
              "      <td>17/03/2023 14:03</td>\n",
              "      <td>RJ</td>\n",
              "    </tr>\n",
              "    <tr>\n",
              "      <th>2</th>\n",
              "      <td>Produto 5</td>\n",
              "      <td>3</td>\n",
              "      <td>25.39</td>\n",
              "      <td>76.17</td>\n",
              "      <td>20/04/2023 09:03</td>\n",
              "      <td>BA</td>\n",
              "    </tr>\n",
              "    <tr>\n",
              "      <th>3</th>\n",
              "      <td>Produto 6</td>\n",
              "      <td>3</td>\n",
              "      <td>10.73</td>\n",
              "      <td>32.19</td>\n",
              "      <td>21/09/2023 15:03</td>\n",
              "      <td>AM</td>\n",
              "    </tr>\n",
              "    <tr>\n",
              "      <th>4</th>\n",
              "      <td>Produto 8</td>\n",
              "      <td>4</td>\n",
              "      <td>34.67</td>\n",
              "      <td>138.68</td>\n",
              "      <td>04/09/2023 01:03</td>\n",
              "      <td>SP</td>\n",
              "    </tr>\n",
              "  </tbody>\n",
              "</table>\n",
              "</div>\n",
              "    <div class=\"colab-df-buttons\">\n",
              "\n",
              "  <div class=\"colab-df-container\">\n",
              "    <button class=\"colab-df-convert\" onclick=\"convertToInteractive('df-d270f287-4cc0-44fe-8952-2bf987d5a68e')\"\n",
              "            title=\"Convert this dataframe to an interactive table.\"\n",
              "            style=\"display:none;\">\n",
              "\n",
              "  <svg xmlns=\"http://www.w3.org/2000/svg\" height=\"24px\" viewBox=\"0 -960 960 960\">\n",
              "    <path d=\"M120-120v-720h720v720H120Zm60-500h600v-160H180v160Zm220 220h160v-160H400v160Zm0 220h160v-160H400v160ZM180-400h160v-160H180v160Zm440 0h160v-160H620v160ZM180-180h160v-160H180v160Zm440 0h160v-160H620v160Z\"/>\n",
              "  </svg>\n",
              "    </button>\n",
              "\n",
              "  <style>\n",
              "    .colab-df-container {\n",
              "      display:flex;\n",
              "      gap: 12px;\n",
              "    }\n",
              "\n",
              "    .colab-df-convert {\n",
              "      background-color: #E8F0FE;\n",
              "      border: none;\n",
              "      border-radius: 50%;\n",
              "      cursor: pointer;\n",
              "      display: none;\n",
              "      fill: #1967D2;\n",
              "      height: 32px;\n",
              "      padding: 0 0 0 0;\n",
              "      width: 32px;\n",
              "    }\n",
              "\n",
              "    .colab-df-convert:hover {\n",
              "      background-color: #E2EBFA;\n",
              "      box-shadow: 0px 1px 2px rgba(60, 64, 67, 0.3), 0px 1px 3px 1px rgba(60, 64, 67, 0.15);\n",
              "      fill: #174EA6;\n",
              "    }\n",
              "\n",
              "    .colab-df-buttons div {\n",
              "      margin-bottom: 4px;\n",
              "    }\n",
              "\n",
              "    [theme=dark] .colab-df-convert {\n",
              "      background-color: #3B4455;\n",
              "      fill: #D2E3FC;\n",
              "    }\n",
              "\n",
              "    [theme=dark] .colab-df-convert:hover {\n",
              "      background-color: #434B5C;\n",
              "      box-shadow: 0px 1px 3px 1px rgba(0, 0, 0, 0.15);\n",
              "      filter: drop-shadow(0px 1px 2px rgba(0, 0, 0, 0.3));\n",
              "      fill: #FFFFFF;\n",
              "    }\n",
              "  </style>\n",
              "\n",
              "    <script>\n",
              "      const buttonEl =\n",
              "        document.querySelector('#df-d270f287-4cc0-44fe-8952-2bf987d5a68e button.colab-df-convert');\n",
              "      buttonEl.style.display =\n",
              "        google.colab.kernel.accessAllowed ? 'block' : 'none';\n",
              "\n",
              "      async function convertToInteractive(key) {\n",
              "        const element = document.querySelector('#df-d270f287-4cc0-44fe-8952-2bf987d5a68e');\n",
              "        const dataTable =\n",
              "          await google.colab.kernel.invokeFunction('convertToInteractive',\n",
              "                                                    [key], {});\n",
              "        if (!dataTable) return;\n",
              "\n",
              "        const docLinkHtml = 'Like what you see? Visit the ' +\n",
              "          '<a target=\"_blank\" href=https://colab.research.google.com/notebooks/data_table.ipynb>data table notebook</a>'\n",
              "          + ' to learn more about interactive tables.';\n",
              "        element.innerHTML = '';\n",
              "        dataTable['output_type'] = 'display_data';\n",
              "        await google.colab.output.renderOutput(dataTable, element);\n",
              "        const docLink = document.createElement('div');\n",
              "        docLink.innerHTML = docLinkHtml;\n",
              "        element.appendChild(docLink);\n",
              "      }\n",
              "    </script>\n",
              "  </div>\n",
              "\n",
              "\n",
              "<div id=\"df-424bde8c-8675-4998-857c-eacd87713773\">\n",
              "  <button class=\"colab-df-quickchart\" onclick=\"quickchart('df-424bde8c-8675-4998-857c-eacd87713773')\"\n",
              "            title=\"Suggest charts\"\n",
              "            style=\"display:none;\">\n",
              "\n",
              "<svg xmlns=\"http://www.w3.org/2000/svg\" height=\"24px\"viewBox=\"0 0 24 24\"\n",
              "     width=\"24px\">\n",
              "    <g>\n",
              "        <path d=\"M19 3H5c-1.1 0-2 .9-2 2v14c0 1.1.9 2 2 2h14c1.1 0 2-.9 2-2V5c0-1.1-.9-2-2-2zM9 17H7v-7h2v7zm4 0h-2V7h2v10zm4 0h-2v-4h2v4z\"/>\n",
              "    </g>\n",
              "</svg>\n",
              "  </button>\n",
              "\n",
              "<style>\n",
              "  .colab-df-quickchart {\n",
              "      --bg-color: #E8F0FE;\n",
              "      --fill-color: #1967D2;\n",
              "      --hover-bg-color: #E2EBFA;\n",
              "      --hover-fill-color: #174EA6;\n",
              "      --disabled-fill-color: #AAA;\n",
              "      --disabled-bg-color: #DDD;\n",
              "  }\n",
              "\n",
              "  [theme=dark] .colab-df-quickchart {\n",
              "      --bg-color: #3B4455;\n",
              "      --fill-color: #D2E3FC;\n",
              "      --hover-bg-color: #434B5C;\n",
              "      --hover-fill-color: #FFFFFF;\n",
              "      --disabled-bg-color: #3B4455;\n",
              "      --disabled-fill-color: #666;\n",
              "  }\n",
              "\n",
              "  .colab-df-quickchart {\n",
              "    background-color: var(--bg-color);\n",
              "    border: none;\n",
              "    border-radius: 50%;\n",
              "    cursor: pointer;\n",
              "    display: none;\n",
              "    fill: var(--fill-color);\n",
              "    height: 32px;\n",
              "    padding: 0;\n",
              "    width: 32px;\n",
              "  }\n",
              "\n",
              "  .colab-df-quickchart:hover {\n",
              "    background-color: var(--hover-bg-color);\n",
              "    box-shadow: 0 1px 2px rgba(60, 64, 67, 0.3), 0 1px 3px 1px rgba(60, 64, 67, 0.15);\n",
              "    fill: var(--button-hover-fill-color);\n",
              "  }\n",
              "\n",
              "  .colab-df-quickchart-complete:disabled,\n",
              "  .colab-df-quickchart-complete:disabled:hover {\n",
              "    background-color: var(--disabled-bg-color);\n",
              "    fill: var(--disabled-fill-color);\n",
              "    box-shadow: none;\n",
              "  }\n",
              "\n",
              "  .colab-df-spinner {\n",
              "    border: 2px solid var(--fill-color);\n",
              "    border-color: transparent;\n",
              "    border-bottom-color: var(--fill-color);\n",
              "    animation:\n",
              "      spin 1s steps(1) infinite;\n",
              "  }\n",
              "\n",
              "  @keyframes spin {\n",
              "    0% {\n",
              "      border-color: transparent;\n",
              "      border-bottom-color: var(--fill-color);\n",
              "      border-left-color: var(--fill-color);\n",
              "    }\n",
              "    20% {\n",
              "      border-color: transparent;\n",
              "      border-left-color: var(--fill-color);\n",
              "      border-top-color: var(--fill-color);\n",
              "    }\n",
              "    30% {\n",
              "      border-color: transparent;\n",
              "      border-left-color: var(--fill-color);\n",
              "      border-top-color: var(--fill-color);\n",
              "      border-right-color: var(--fill-color);\n",
              "    }\n",
              "    40% {\n",
              "      border-color: transparent;\n",
              "      border-right-color: var(--fill-color);\n",
              "      border-top-color: var(--fill-color);\n",
              "    }\n",
              "    60% {\n",
              "      border-color: transparent;\n",
              "      border-right-color: var(--fill-color);\n",
              "    }\n",
              "    80% {\n",
              "      border-color: transparent;\n",
              "      border-right-color: var(--fill-color);\n",
              "      border-bottom-color: var(--fill-color);\n",
              "    }\n",
              "    90% {\n",
              "      border-color: transparent;\n",
              "      border-bottom-color: var(--fill-color);\n",
              "    }\n",
              "  }\n",
              "</style>\n",
              "\n",
              "  <script>\n",
              "    async function quickchart(key) {\n",
              "      const quickchartButtonEl =\n",
              "        document.querySelector('#' + key + ' button');\n",
              "      quickchartButtonEl.disabled = true;  // To prevent multiple clicks.\n",
              "      quickchartButtonEl.classList.add('colab-df-spinner');\n",
              "      try {\n",
              "        const charts = await google.colab.kernel.invokeFunction(\n",
              "            'suggestCharts', [key], {});\n",
              "      } catch (error) {\n",
              "        console.error('Error during call to suggestCharts:', error);\n",
              "      }\n",
              "      quickchartButtonEl.classList.remove('colab-df-spinner');\n",
              "      quickchartButtonEl.classList.add('colab-df-quickchart-complete');\n",
              "    }\n",
              "    (() => {\n",
              "      let quickchartButtonEl =\n",
              "        document.querySelector('#df-424bde8c-8675-4998-857c-eacd87713773 button');\n",
              "      quickchartButtonEl.style.display =\n",
              "        google.colab.kernel.accessAllowed ? 'block' : 'none';\n",
              "    })();\n",
              "  </script>\n",
              "</div>\n",
              "\n",
              "    </div>\n",
              "  </div>\n"
            ]
          },
          "metadata": {},
          "execution_count": 7
        }
      ]
    },
    {
      "cell_type": "markdown",
      "source": [
        "# Tratamento dataset vendas_produtos"
      ],
      "metadata": {
        "id": "jbHjPo_M8_dK"
      }
    },
    {
      "cell_type": "code",
      "source": [
        "vendas_produtos.info()"
      ],
      "metadata": {
        "colab": {
          "base_uri": "https://localhost:8080/"
        },
        "id": "uyPh8EcO9FlW",
        "outputId": "82240058-3009-46ba-a4bf-bfea482d531c"
      },
      "execution_count": null,
      "outputs": [
        {
          "output_type": "stream",
          "name": "stdout",
          "text": [
            "<class 'pandas.core.frame.DataFrame'>\n",
            "RangeIndex: 2031 entries, 0 to 2030\n",
            "Data columns (total 6 columns):\n",
            " #   Column          Non-Null Count  Dtype  \n",
            "---  ------          --------------  -----  \n",
            " 0   Produto         2026 non-null   object \n",
            " 1   Quantidade      2031 non-null   int64  \n",
            " 2   Preco_Unitario  2019 non-null   float64\n",
            " 3   Valor_Total     2021 non-null   float64\n",
            " 4   Data            2031 non-null   object \n",
            " 5   Estado          2031 non-null   object \n",
            "dtypes: float64(2), int64(1), object(3)\n",
            "memory usage: 95.3+ KB\n"
          ]
        }
      ]
    },
    {
      "cell_type": "code",
      "source": [
        "#realizando a contagem de valores ausentes (NaN) em cada coluna do DataFrame\n",
        "vendas_produtos.isna().sum()"
      ],
      "metadata": {
        "colab": {
          "base_uri": "https://localhost:8080/"
        },
        "id": "TCWm58hJ9Ojb",
        "outputId": "ec7550c2-46fc-4753-fb15-6410db2c13bb"
      },
      "execution_count": null,
      "outputs": [
        {
          "output_type": "execute_result",
          "data": {
            "text/plain": [
              "Produto            5\n",
              "Quantidade         0\n",
              "Preco_Unitario    12\n",
              "Valor_Total       10\n",
              "Data               0\n",
              "Estado             0\n",
              "dtype: int64"
            ]
          },
          "metadata": {},
          "execution_count": 9
        }
      ]
    },
    {
      "cell_type": "code",
      "source": [
        "# realizando a remoção das linhas em que o valor na coluna 'Produto' é nulo (NaN) no DataFrame\n",
        "vendas_produtos.dropna(subset=['Produto'],inplace=True)"
      ],
      "metadata": {
        "id": "rCdJZ4rx9c_D"
      },
      "execution_count": null,
      "outputs": []
    },
    {
      "cell_type": "code",
      "source": [
        "# selecionando as linhas no DataFrame  onde o valor na coluna 'Preco_Unitario' é nulo (NaN)\n",
        "vendas_produtos.loc[vendas_produtos['Preco_Unitario'].isnull()]"
      ],
      "metadata": {
        "colab": {
          "base_uri": "https://localhost:8080/",
          "height": 426
        },
        "id": "yK_ixHrV9jEU",
        "outputId": "d579c8f4-4a1e-4a56-e8a4-72942f2a7343"
      },
      "execution_count": null,
      "outputs": [
        {
          "output_type": "execute_result",
          "data": {
            "text/plain": [
              "         Produto  Quantidade  Preco_Unitario  Valor_Total              Data  \\\n",
              "1848   Produto 3           4             NaN        56.00  03/09/2023 23:03   \n",
              "1849   Produto 9           9             NaN       171.63  19/08/2023 03:03   \n",
              "1850   Produto 8           8             NaN       278.88  15/04/2023 07:03   \n",
              "1851   Produto 9           1             NaN        20.69  19/10/2023 01:03   \n",
              "1852   Produto 6           2             NaN        23.68  14/06/2023 19:03   \n",
              "1853   Produto 1           7             NaN        68.25  31/03/2023 22:03   \n",
              "1854  Produto 10          10             NaN        87.30  07/10/2023 12:03   \n",
              "1855   Produto 3           6             NaN       109.20  16/03/2023 01:03   \n",
              "1856   Produto 6          10             NaN       102.40  30/04/2023 11:03   \n",
              "1857   Produto 7           3             NaN       102.09  31/03/2023 01:03   \n",
              "1858   Produto 7           1             NaN        38.50  25/05/2023 16:03   \n",
              "1859   Produto 7           8             NaN       332.48  29/10/2023 12:03   \n",
              "\n",
              "     Estado  \n",
              "1848     BA  \n",
              "1849     RS  \n",
              "1850     MG  \n",
              "1851     PE  \n",
              "1852     MG  \n",
              "1853     BA  \n",
              "1854     PR  \n",
              "1855     AM  \n",
              "1856     RS  \n",
              "1857     RS  \n",
              "1858     BA  \n",
              "1859     MG  "
            ],
            "text/html": [
              "\n",
              "  <div id=\"df-9528691f-8d05-46f4-bd21-1f8e3d94c225\" class=\"colab-df-container\">\n",
              "    <div>\n",
              "<style scoped>\n",
              "    .dataframe tbody tr th:only-of-type {\n",
              "        vertical-align: middle;\n",
              "    }\n",
              "\n",
              "    .dataframe tbody tr th {\n",
              "        vertical-align: top;\n",
              "    }\n",
              "\n",
              "    .dataframe thead th {\n",
              "        text-align: right;\n",
              "    }\n",
              "</style>\n",
              "<table border=\"1\" class=\"dataframe\">\n",
              "  <thead>\n",
              "    <tr style=\"text-align: right;\">\n",
              "      <th></th>\n",
              "      <th>Produto</th>\n",
              "      <th>Quantidade</th>\n",
              "      <th>Preco_Unitario</th>\n",
              "      <th>Valor_Total</th>\n",
              "      <th>Data</th>\n",
              "      <th>Estado</th>\n",
              "    </tr>\n",
              "  </thead>\n",
              "  <tbody>\n",
              "    <tr>\n",
              "      <th>1848</th>\n",
              "      <td>Produto 3</td>\n",
              "      <td>4</td>\n",
              "      <td>NaN</td>\n",
              "      <td>56.00</td>\n",
              "      <td>03/09/2023 23:03</td>\n",
              "      <td>BA</td>\n",
              "    </tr>\n",
              "    <tr>\n",
              "      <th>1849</th>\n",
              "      <td>Produto 9</td>\n",
              "      <td>9</td>\n",
              "      <td>NaN</td>\n",
              "      <td>171.63</td>\n",
              "      <td>19/08/2023 03:03</td>\n",
              "      <td>RS</td>\n",
              "    </tr>\n",
              "    <tr>\n",
              "      <th>1850</th>\n",
              "      <td>Produto 8</td>\n",
              "      <td>8</td>\n",
              "      <td>NaN</td>\n",
              "      <td>278.88</td>\n",
              "      <td>15/04/2023 07:03</td>\n",
              "      <td>MG</td>\n",
              "    </tr>\n",
              "    <tr>\n",
              "      <th>1851</th>\n",
              "      <td>Produto 9</td>\n",
              "      <td>1</td>\n",
              "      <td>NaN</td>\n",
              "      <td>20.69</td>\n",
              "      <td>19/10/2023 01:03</td>\n",
              "      <td>PE</td>\n",
              "    </tr>\n",
              "    <tr>\n",
              "      <th>1852</th>\n",
              "      <td>Produto 6</td>\n",
              "      <td>2</td>\n",
              "      <td>NaN</td>\n",
              "      <td>23.68</td>\n",
              "      <td>14/06/2023 19:03</td>\n",
              "      <td>MG</td>\n",
              "    </tr>\n",
              "    <tr>\n",
              "      <th>1853</th>\n",
              "      <td>Produto 1</td>\n",
              "      <td>7</td>\n",
              "      <td>NaN</td>\n",
              "      <td>68.25</td>\n",
              "      <td>31/03/2023 22:03</td>\n",
              "      <td>BA</td>\n",
              "    </tr>\n",
              "    <tr>\n",
              "      <th>1854</th>\n",
              "      <td>Produto 10</td>\n",
              "      <td>10</td>\n",
              "      <td>NaN</td>\n",
              "      <td>87.30</td>\n",
              "      <td>07/10/2023 12:03</td>\n",
              "      <td>PR</td>\n",
              "    </tr>\n",
              "    <tr>\n",
              "      <th>1855</th>\n",
              "      <td>Produto 3</td>\n",
              "      <td>6</td>\n",
              "      <td>NaN</td>\n",
              "      <td>109.20</td>\n",
              "      <td>16/03/2023 01:03</td>\n",
              "      <td>AM</td>\n",
              "    </tr>\n",
              "    <tr>\n",
              "      <th>1856</th>\n",
              "      <td>Produto 6</td>\n",
              "      <td>10</td>\n",
              "      <td>NaN</td>\n",
              "      <td>102.40</td>\n",
              "      <td>30/04/2023 11:03</td>\n",
              "      <td>RS</td>\n",
              "    </tr>\n",
              "    <tr>\n",
              "      <th>1857</th>\n",
              "      <td>Produto 7</td>\n",
              "      <td>3</td>\n",
              "      <td>NaN</td>\n",
              "      <td>102.09</td>\n",
              "      <td>31/03/2023 01:03</td>\n",
              "      <td>RS</td>\n",
              "    </tr>\n",
              "    <tr>\n",
              "      <th>1858</th>\n",
              "      <td>Produto 7</td>\n",
              "      <td>1</td>\n",
              "      <td>NaN</td>\n",
              "      <td>38.50</td>\n",
              "      <td>25/05/2023 16:03</td>\n",
              "      <td>BA</td>\n",
              "    </tr>\n",
              "    <tr>\n",
              "      <th>1859</th>\n",
              "      <td>Produto 7</td>\n",
              "      <td>8</td>\n",
              "      <td>NaN</td>\n",
              "      <td>332.48</td>\n",
              "      <td>29/10/2023 12:03</td>\n",
              "      <td>MG</td>\n",
              "    </tr>\n",
              "  </tbody>\n",
              "</table>\n",
              "</div>\n",
              "    <div class=\"colab-df-buttons\">\n",
              "\n",
              "  <div class=\"colab-df-container\">\n",
              "    <button class=\"colab-df-convert\" onclick=\"convertToInteractive('df-9528691f-8d05-46f4-bd21-1f8e3d94c225')\"\n",
              "            title=\"Convert this dataframe to an interactive table.\"\n",
              "            style=\"display:none;\">\n",
              "\n",
              "  <svg xmlns=\"http://www.w3.org/2000/svg\" height=\"24px\" viewBox=\"0 -960 960 960\">\n",
              "    <path d=\"M120-120v-720h720v720H120Zm60-500h600v-160H180v160Zm220 220h160v-160H400v160Zm0 220h160v-160H400v160ZM180-400h160v-160H180v160Zm440 0h160v-160H620v160ZM180-180h160v-160H180v160Zm440 0h160v-160H620v160Z\"/>\n",
              "  </svg>\n",
              "    </button>\n",
              "\n",
              "  <style>\n",
              "    .colab-df-container {\n",
              "      display:flex;\n",
              "      gap: 12px;\n",
              "    }\n",
              "\n",
              "    .colab-df-convert {\n",
              "      background-color: #E8F0FE;\n",
              "      border: none;\n",
              "      border-radius: 50%;\n",
              "      cursor: pointer;\n",
              "      display: none;\n",
              "      fill: #1967D2;\n",
              "      height: 32px;\n",
              "      padding: 0 0 0 0;\n",
              "      width: 32px;\n",
              "    }\n",
              "\n",
              "    .colab-df-convert:hover {\n",
              "      background-color: #E2EBFA;\n",
              "      box-shadow: 0px 1px 2px rgba(60, 64, 67, 0.3), 0px 1px 3px 1px rgba(60, 64, 67, 0.15);\n",
              "      fill: #174EA6;\n",
              "    }\n",
              "\n",
              "    .colab-df-buttons div {\n",
              "      margin-bottom: 4px;\n",
              "    }\n",
              "\n",
              "    [theme=dark] .colab-df-convert {\n",
              "      background-color: #3B4455;\n",
              "      fill: #D2E3FC;\n",
              "    }\n",
              "\n",
              "    [theme=dark] .colab-df-convert:hover {\n",
              "      background-color: #434B5C;\n",
              "      box-shadow: 0px 1px 3px 1px rgba(0, 0, 0, 0.15);\n",
              "      filter: drop-shadow(0px 1px 2px rgba(0, 0, 0, 0.3));\n",
              "      fill: #FFFFFF;\n",
              "    }\n",
              "  </style>\n",
              "\n",
              "    <script>\n",
              "      const buttonEl =\n",
              "        document.querySelector('#df-9528691f-8d05-46f4-bd21-1f8e3d94c225 button.colab-df-convert');\n",
              "      buttonEl.style.display =\n",
              "        google.colab.kernel.accessAllowed ? 'block' : 'none';\n",
              "\n",
              "      async function convertToInteractive(key) {\n",
              "        const element = document.querySelector('#df-9528691f-8d05-46f4-bd21-1f8e3d94c225');\n",
              "        const dataTable =\n",
              "          await google.colab.kernel.invokeFunction('convertToInteractive',\n",
              "                                                    [key], {});\n",
              "        if (!dataTable) return;\n",
              "\n",
              "        const docLinkHtml = 'Like what you see? Visit the ' +\n",
              "          '<a target=\"_blank\" href=https://colab.research.google.com/notebooks/data_table.ipynb>data table notebook</a>'\n",
              "          + ' to learn more about interactive tables.';\n",
              "        element.innerHTML = '';\n",
              "        dataTable['output_type'] = 'display_data';\n",
              "        await google.colab.output.renderOutput(dataTable, element);\n",
              "        const docLink = document.createElement('div');\n",
              "        docLink.innerHTML = docLinkHtml;\n",
              "        element.appendChild(docLink);\n",
              "      }\n",
              "    </script>\n",
              "  </div>\n",
              "\n",
              "\n",
              "<div id=\"df-b0371c3e-f302-4745-ab27-e366474fea47\">\n",
              "  <button class=\"colab-df-quickchart\" onclick=\"quickchart('df-b0371c3e-f302-4745-ab27-e366474fea47')\"\n",
              "            title=\"Suggest charts\"\n",
              "            style=\"display:none;\">\n",
              "\n",
              "<svg xmlns=\"http://www.w3.org/2000/svg\" height=\"24px\"viewBox=\"0 0 24 24\"\n",
              "     width=\"24px\">\n",
              "    <g>\n",
              "        <path d=\"M19 3H5c-1.1 0-2 .9-2 2v14c0 1.1.9 2 2 2h14c1.1 0 2-.9 2-2V5c0-1.1-.9-2-2-2zM9 17H7v-7h2v7zm4 0h-2V7h2v10zm4 0h-2v-4h2v4z\"/>\n",
              "    </g>\n",
              "</svg>\n",
              "  </button>\n",
              "\n",
              "<style>\n",
              "  .colab-df-quickchart {\n",
              "      --bg-color: #E8F0FE;\n",
              "      --fill-color: #1967D2;\n",
              "      --hover-bg-color: #E2EBFA;\n",
              "      --hover-fill-color: #174EA6;\n",
              "      --disabled-fill-color: #AAA;\n",
              "      --disabled-bg-color: #DDD;\n",
              "  }\n",
              "\n",
              "  [theme=dark] .colab-df-quickchart {\n",
              "      --bg-color: #3B4455;\n",
              "      --fill-color: #D2E3FC;\n",
              "      --hover-bg-color: #434B5C;\n",
              "      --hover-fill-color: #FFFFFF;\n",
              "      --disabled-bg-color: #3B4455;\n",
              "      --disabled-fill-color: #666;\n",
              "  }\n",
              "\n",
              "  .colab-df-quickchart {\n",
              "    background-color: var(--bg-color);\n",
              "    border: none;\n",
              "    border-radius: 50%;\n",
              "    cursor: pointer;\n",
              "    display: none;\n",
              "    fill: var(--fill-color);\n",
              "    height: 32px;\n",
              "    padding: 0;\n",
              "    width: 32px;\n",
              "  }\n",
              "\n",
              "  .colab-df-quickchart:hover {\n",
              "    background-color: var(--hover-bg-color);\n",
              "    box-shadow: 0 1px 2px rgba(60, 64, 67, 0.3), 0 1px 3px 1px rgba(60, 64, 67, 0.15);\n",
              "    fill: var(--button-hover-fill-color);\n",
              "  }\n",
              "\n",
              "  .colab-df-quickchart-complete:disabled,\n",
              "  .colab-df-quickchart-complete:disabled:hover {\n",
              "    background-color: var(--disabled-bg-color);\n",
              "    fill: var(--disabled-fill-color);\n",
              "    box-shadow: none;\n",
              "  }\n",
              "\n",
              "  .colab-df-spinner {\n",
              "    border: 2px solid var(--fill-color);\n",
              "    border-color: transparent;\n",
              "    border-bottom-color: var(--fill-color);\n",
              "    animation:\n",
              "      spin 1s steps(1) infinite;\n",
              "  }\n",
              "\n",
              "  @keyframes spin {\n",
              "    0% {\n",
              "      border-color: transparent;\n",
              "      border-bottom-color: var(--fill-color);\n",
              "      border-left-color: var(--fill-color);\n",
              "    }\n",
              "    20% {\n",
              "      border-color: transparent;\n",
              "      border-left-color: var(--fill-color);\n",
              "      border-top-color: var(--fill-color);\n",
              "    }\n",
              "    30% {\n",
              "      border-color: transparent;\n",
              "      border-left-color: var(--fill-color);\n",
              "      border-top-color: var(--fill-color);\n",
              "      border-right-color: var(--fill-color);\n",
              "    }\n",
              "    40% {\n",
              "      border-color: transparent;\n",
              "      border-right-color: var(--fill-color);\n",
              "      border-top-color: var(--fill-color);\n",
              "    }\n",
              "    60% {\n",
              "      border-color: transparent;\n",
              "      border-right-color: var(--fill-color);\n",
              "    }\n",
              "    80% {\n",
              "      border-color: transparent;\n",
              "      border-right-color: var(--fill-color);\n",
              "      border-bottom-color: var(--fill-color);\n",
              "    }\n",
              "    90% {\n",
              "      border-color: transparent;\n",
              "      border-bottom-color: var(--fill-color);\n",
              "    }\n",
              "  }\n",
              "</style>\n",
              "\n",
              "  <script>\n",
              "    async function quickchart(key) {\n",
              "      const quickchartButtonEl =\n",
              "        document.querySelector('#' + key + ' button');\n",
              "      quickchartButtonEl.disabled = true;  // To prevent multiple clicks.\n",
              "      quickchartButtonEl.classList.add('colab-df-spinner');\n",
              "      try {\n",
              "        const charts = await google.colab.kernel.invokeFunction(\n",
              "            'suggestCharts', [key], {});\n",
              "      } catch (error) {\n",
              "        console.error('Error during call to suggestCharts:', error);\n",
              "      }\n",
              "      quickchartButtonEl.classList.remove('colab-df-spinner');\n",
              "      quickchartButtonEl.classList.add('colab-df-quickchart-complete');\n",
              "    }\n",
              "    (() => {\n",
              "      let quickchartButtonEl =\n",
              "        document.querySelector('#df-b0371c3e-f302-4745-ab27-e366474fea47 button');\n",
              "      quickchartButtonEl.style.display =\n",
              "        google.colab.kernel.accessAllowed ? 'block' : 'none';\n",
              "    })();\n",
              "  </script>\n",
              "</div>\n",
              "\n",
              "    </div>\n",
              "  </div>\n"
            ]
          },
          "metadata": {},
          "execution_count": 11
        }
      ]
    },
    {
      "cell_type": "code",
      "source": [
        "#realizando o preenchimento de valores nulos (NaN) na coluna 'Preco_Unitario' do DataFrame\n",
        "vendas_produtos['Preco_Unitario'].fillna(vendas_produtos['Valor_Total']/vendas_produtos['Quantidade'],inplace=True)"
      ],
      "metadata": {
        "id": "3ahoDsU6-G8Y"
      },
      "execution_count": null,
      "outputs": []
    },
    {
      "cell_type": "code",
      "source": [
        "#Selecionando as linhas no DataFrame vendas_produtos onde o valor na coluna 'Valor_Total' é nulo (NaN)\n",
        "vendas_produtos.loc[vendas_produtos['Valor_Total'].isnull()]"
      ],
      "metadata": {
        "colab": {
          "base_uri": "https://localhost:8080/",
          "height": 332
        },
        "id": "fzxvavor-Xkf",
        "outputId": "3f9036d1-063e-4092-d78b-e34aacead202"
      },
      "execution_count": null,
      "outputs": [
        {
          "output_type": "execute_result",
          "data": {
            "text/plain": [
              "        Produto  Quantidade  Preco_Unitario  Valor_Total              Data  \\\n",
              "136   Produto 3           5           11.91          NaN  25/01/2023 21:03   \n",
              "175   Produto 4          10           32.18          NaN  23/09/2023 13:03   \n",
              "235  Produto 10          10            7.33          NaN  17/06/2023 00:03   \n",
              "300   Produto 8           5           38.36          NaN  03/11/2022 08:03   \n",
              "397   Produto 8           6           32.98          NaN  26/11/2022 19:03   \n",
              "469   Produto 7           5           47.02          NaN  28/08/2023 12:03   \n",
              "538   Produto 8           8           32.94          NaN  10/10/2023 16:03   \n",
              "605   Produto 1           9           11.59          NaN  03/03/2023 09:03   \n",
              "669   Produto 7           3           40.29          NaN  01/09/2023 14:03   \n",
              "\n",
              "    Estado  \n",
              "136     SP  \n",
              "175     SC  \n",
              "235     RS  \n",
              "300     RS  \n",
              "397     CE  \n",
              "469     RJ  \n",
              "538     CE  \n",
              "605     SP  \n",
              "669     SC  "
            ],
            "text/html": [
              "\n",
              "  <div id=\"df-b0a8c19c-4d7e-4410-9c6e-e48425a38055\" class=\"colab-df-container\">\n",
              "    <div>\n",
              "<style scoped>\n",
              "    .dataframe tbody tr th:only-of-type {\n",
              "        vertical-align: middle;\n",
              "    }\n",
              "\n",
              "    .dataframe tbody tr th {\n",
              "        vertical-align: top;\n",
              "    }\n",
              "\n",
              "    .dataframe thead th {\n",
              "        text-align: right;\n",
              "    }\n",
              "</style>\n",
              "<table border=\"1\" class=\"dataframe\">\n",
              "  <thead>\n",
              "    <tr style=\"text-align: right;\">\n",
              "      <th></th>\n",
              "      <th>Produto</th>\n",
              "      <th>Quantidade</th>\n",
              "      <th>Preco_Unitario</th>\n",
              "      <th>Valor_Total</th>\n",
              "      <th>Data</th>\n",
              "      <th>Estado</th>\n",
              "    </tr>\n",
              "  </thead>\n",
              "  <tbody>\n",
              "    <tr>\n",
              "      <th>136</th>\n",
              "      <td>Produto 3</td>\n",
              "      <td>5</td>\n",
              "      <td>11.91</td>\n",
              "      <td>NaN</td>\n",
              "      <td>25/01/2023 21:03</td>\n",
              "      <td>SP</td>\n",
              "    </tr>\n",
              "    <tr>\n",
              "      <th>175</th>\n",
              "      <td>Produto 4</td>\n",
              "      <td>10</td>\n",
              "      <td>32.18</td>\n",
              "      <td>NaN</td>\n",
              "      <td>23/09/2023 13:03</td>\n",
              "      <td>SC</td>\n",
              "    </tr>\n",
              "    <tr>\n",
              "      <th>235</th>\n",
              "      <td>Produto 10</td>\n",
              "      <td>10</td>\n",
              "      <td>7.33</td>\n",
              "      <td>NaN</td>\n",
              "      <td>17/06/2023 00:03</td>\n",
              "      <td>RS</td>\n",
              "    </tr>\n",
              "    <tr>\n",
              "      <th>300</th>\n",
              "      <td>Produto 8</td>\n",
              "      <td>5</td>\n",
              "      <td>38.36</td>\n",
              "      <td>NaN</td>\n",
              "      <td>03/11/2022 08:03</td>\n",
              "      <td>RS</td>\n",
              "    </tr>\n",
              "    <tr>\n",
              "      <th>397</th>\n",
              "      <td>Produto 8</td>\n",
              "      <td>6</td>\n",
              "      <td>32.98</td>\n",
              "      <td>NaN</td>\n",
              "      <td>26/11/2022 19:03</td>\n",
              "      <td>CE</td>\n",
              "    </tr>\n",
              "    <tr>\n",
              "      <th>469</th>\n",
              "      <td>Produto 7</td>\n",
              "      <td>5</td>\n",
              "      <td>47.02</td>\n",
              "      <td>NaN</td>\n",
              "      <td>28/08/2023 12:03</td>\n",
              "      <td>RJ</td>\n",
              "    </tr>\n",
              "    <tr>\n",
              "      <th>538</th>\n",
              "      <td>Produto 8</td>\n",
              "      <td>8</td>\n",
              "      <td>32.94</td>\n",
              "      <td>NaN</td>\n",
              "      <td>10/10/2023 16:03</td>\n",
              "      <td>CE</td>\n",
              "    </tr>\n",
              "    <tr>\n",
              "      <th>605</th>\n",
              "      <td>Produto 1</td>\n",
              "      <td>9</td>\n",
              "      <td>11.59</td>\n",
              "      <td>NaN</td>\n",
              "      <td>03/03/2023 09:03</td>\n",
              "      <td>SP</td>\n",
              "    </tr>\n",
              "    <tr>\n",
              "      <th>669</th>\n",
              "      <td>Produto 7</td>\n",
              "      <td>3</td>\n",
              "      <td>40.29</td>\n",
              "      <td>NaN</td>\n",
              "      <td>01/09/2023 14:03</td>\n",
              "      <td>SC</td>\n",
              "    </tr>\n",
              "  </tbody>\n",
              "</table>\n",
              "</div>\n",
              "    <div class=\"colab-df-buttons\">\n",
              "\n",
              "  <div class=\"colab-df-container\">\n",
              "    <button class=\"colab-df-convert\" onclick=\"convertToInteractive('df-b0a8c19c-4d7e-4410-9c6e-e48425a38055')\"\n",
              "            title=\"Convert this dataframe to an interactive table.\"\n",
              "            style=\"display:none;\">\n",
              "\n",
              "  <svg xmlns=\"http://www.w3.org/2000/svg\" height=\"24px\" viewBox=\"0 -960 960 960\">\n",
              "    <path d=\"M120-120v-720h720v720H120Zm60-500h600v-160H180v160Zm220 220h160v-160H400v160Zm0 220h160v-160H400v160ZM180-400h160v-160H180v160Zm440 0h160v-160H620v160ZM180-180h160v-160H180v160Zm440 0h160v-160H620v160Z\"/>\n",
              "  </svg>\n",
              "    </button>\n",
              "\n",
              "  <style>\n",
              "    .colab-df-container {\n",
              "      display:flex;\n",
              "      gap: 12px;\n",
              "    }\n",
              "\n",
              "    .colab-df-convert {\n",
              "      background-color: #E8F0FE;\n",
              "      border: none;\n",
              "      border-radius: 50%;\n",
              "      cursor: pointer;\n",
              "      display: none;\n",
              "      fill: #1967D2;\n",
              "      height: 32px;\n",
              "      padding: 0 0 0 0;\n",
              "      width: 32px;\n",
              "    }\n",
              "\n",
              "    .colab-df-convert:hover {\n",
              "      background-color: #E2EBFA;\n",
              "      box-shadow: 0px 1px 2px rgba(60, 64, 67, 0.3), 0px 1px 3px 1px rgba(60, 64, 67, 0.15);\n",
              "      fill: #174EA6;\n",
              "    }\n",
              "\n",
              "    .colab-df-buttons div {\n",
              "      margin-bottom: 4px;\n",
              "    }\n",
              "\n",
              "    [theme=dark] .colab-df-convert {\n",
              "      background-color: #3B4455;\n",
              "      fill: #D2E3FC;\n",
              "    }\n",
              "\n",
              "    [theme=dark] .colab-df-convert:hover {\n",
              "      background-color: #434B5C;\n",
              "      box-shadow: 0px 1px 3px 1px rgba(0, 0, 0, 0.15);\n",
              "      filter: drop-shadow(0px 1px 2px rgba(0, 0, 0, 0.3));\n",
              "      fill: #FFFFFF;\n",
              "    }\n",
              "  </style>\n",
              "\n",
              "    <script>\n",
              "      const buttonEl =\n",
              "        document.querySelector('#df-b0a8c19c-4d7e-4410-9c6e-e48425a38055 button.colab-df-convert');\n",
              "      buttonEl.style.display =\n",
              "        google.colab.kernel.accessAllowed ? 'block' : 'none';\n",
              "\n",
              "      async function convertToInteractive(key) {\n",
              "        const element = document.querySelector('#df-b0a8c19c-4d7e-4410-9c6e-e48425a38055');\n",
              "        const dataTable =\n",
              "          await google.colab.kernel.invokeFunction('convertToInteractive',\n",
              "                                                    [key], {});\n",
              "        if (!dataTable) return;\n",
              "\n",
              "        const docLinkHtml = 'Like what you see? Visit the ' +\n",
              "          '<a target=\"_blank\" href=https://colab.research.google.com/notebooks/data_table.ipynb>data table notebook</a>'\n",
              "          + ' to learn more about interactive tables.';\n",
              "        element.innerHTML = '';\n",
              "        dataTable['output_type'] = 'display_data';\n",
              "        await google.colab.output.renderOutput(dataTable, element);\n",
              "        const docLink = document.createElement('div');\n",
              "        docLink.innerHTML = docLinkHtml;\n",
              "        element.appendChild(docLink);\n",
              "      }\n",
              "    </script>\n",
              "  </div>\n",
              "\n",
              "\n",
              "<div id=\"df-a2a18d3d-80c8-451f-8ace-ecfb5c5f043a\">\n",
              "  <button class=\"colab-df-quickchart\" onclick=\"quickchart('df-a2a18d3d-80c8-451f-8ace-ecfb5c5f043a')\"\n",
              "            title=\"Suggest charts\"\n",
              "            style=\"display:none;\">\n",
              "\n",
              "<svg xmlns=\"http://www.w3.org/2000/svg\" height=\"24px\"viewBox=\"0 0 24 24\"\n",
              "     width=\"24px\">\n",
              "    <g>\n",
              "        <path d=\"M19 3H5c-1.1 0-2 .9-2 2v14c0 1.1.9 2 2 2h14c1.1 0 2-.9 2-2V5c0-1.1-.9-2-2-2zM9 17H7v-7h2v7zm4 0h-2V7h2v10zm4 0h-2v-4h2v4z\"/>\n",
              "    </g>\n",
              "</svg>\n",
              "  </button>\n",
              "\n",
              "<style>\n",
              "  .colab-df-quickchart {\n",
              "      --bg-color: #E8F0FE;\n",
              "      --fill-color: #1967D2;\n",
              "      --hover-bg-color: #E2EBFA;\n",
              "      --hover-fill-color: #174EA6;\n",
              "      --disabled-fill-color: #AAA;\n",
              "      --disabled-bg-color: #DDD;\n",
              "  }\n",
              "\n",
              "  [theme=dark] .colab-df-quickchart {\n",
              "      --bg-color: #3B4455;\n",
              "      --fill-color: #D2E3FC;\n",
              "      --hover-bg-color: #434B5C;\n",
              "      --hover-fill-color: #FFFFFF;\n",
              "      --disabled-bg-color: #3B4455;\n",
              "      --disabled-fill-color: #666;\n",
              "  }\n",
              "\n",
              "  .colab-df-quickchart {\n",
              "    background-color: var(--bg-color);\n",
              "    border: none;\n",
              "    border-radius: 50%;\n",
              "    cursor: pointer;\n",
              "    display: none;\n",
              "    fill: var(--fill-color);\n",
              "    height: 32px;\n",
              "    padding: 0;\n",
              "    width: 32px;\n",
              "  }\n",
              "\n",
              "  .colab-df-quickchart:hover {\n",
              "    background-color: var(--hover-bg-color);\n",
              "    box-shadow: 0 1px 2px rgba(60, 64, 67, 0.3), 0 1px 3px 1px rgba(60, 64, 67, 0.15);\n",
              "    fill: var(--button-hover-fill-color);\n",
              "  }\n",
              "\n",
              "  .colab-df-quickchart-complete:disabled,\n",
              "  .colab-df-quickchart-complete:disabled:hover {\n",
              "    background-color: var(--disabled-bg-color);\n",
              "    fill: var(--disabled-fill-color);\n",
              "    box-shadow: none;\n",
              "  }\n",
              "\n",
              "  .colab-df-spinner {\n",
              "    border: 2px solid var(--fill-color);\n",
              "    border-color: transparent;\n",
              "    border-bottom-color: var(--fill-color);\n",
              "    animation:\n",
              "      spin 1s steps(1) infinite;\n",
              "  }\n",
              "\n",
              "  @keyframes spin {\n",
              "    0% {\n",
              "      border-color: transparent;\n",
              "      border-bottom-color: var(--fill-color);\n",
              "      border-left-color: var(--fill-color);\n",
              "    }\n",
              "    20% {\n",
              "      border-color: transparent;\n",
              "      border-left-color: var(--fill-color);\n",
              "      border-top-color: var(--fill-color);\n",
              "    }\n",
              "    30% {\n",
              "      border-color: transparent;\n",
              "      border-left-color: var(--fill-color);\n",
              "      border-top-color: var(--fill-color);\n",
              "      border-right-color: var(--fill-color);\n",
              "    }\n",
              "    40% {\n",
              "      border-color: transparent;\n",
              "      border-right-color: var(--fill-color);\n",
              "      border-top-color: var(--fill-color);\n",
              "    }\n",
              "    60% {\n",
              "      border-color: transparent;\n",
              "      border-right-color: var(--fill-color);\n",
              "    }\n",
              "    80% {\n",
              "      border-color: transparent;\n",
              "      border-right-color: var(--fill-color);\n",
              "      border-bottom-color: var(--fill-color);\n",
              "    }\n",
              "    90% {\n",
              "      border-color: transparent;\n",
              "      border-bottom-color: var(--fill-color);\n",
              "    }\n",
              "  }\n",
              "</style>\n",
              "\n",
              "  <script>\n",
              "    async function quickchart(key) {\n",
              "      const quickchartButtonEl =\n",
              "        document.querySelector('#' + key + ' button');\n",
              "      quickchartButtonEl.disabled = true;  // To prevent multiple clicks.\n",
              "      quickchartButtonEl.classList.add('colab-df-spinner');\n",
              "      try {\n",
              "        const charts = await google.colab.kernel.invokeFunction(\n",
              "            'suggestCharts', [key], {});\n",
              "      } catch (error) {\n",
              "        console.error('Error during call to suggestCharts:', error);\n",
              "      }\n",
              "      quickchartButtonEl.classList.remove('colab-df-spinner');\n",
              "      quickchartButtonEl.classList.add('colab-df-quickchart-complete');\n",
              "    }\n",
              "    (() => {\n",
              "      let quickchartButtonEl =\n",
              "        document.querySelector('#df-a2a18d3d-80c8-451f-8ace-ecfb5c5f043a button');\n",
              "      quickchartButtonEl.style.display =\n",
              "        google.colab.kernel.accessAllowed ? 'block' : 'none';\n",
              "    })();\n",
              "  </script>\n",
              "</div>\n",
              "\n",
              "    </div>\n",
              "  </div>\n"
            ]
          },
          "metadata": {},
          "execution_count": 13
        }
      ]
    },
    {
      "cell_type": "code",
      "source": [
        "#preenchendo os valores ausentes (NaN) na coluna 'Valor_Total' do DataFrame vendas_produtos com o resultado da multiplicação das colunas 'Preco_Unitario' e 'Quantidade'.\n",
        "vendas_produtos['Valor_Total'].fillna(vendas_produtos['Preco_Unitario'] * vendas_produtos['Quantidade'],inplace=True)"
      ],
      "metadata": {
        "id": "O8qyzgv6-nTF"
      },
      "execution_count": null,
      "outputs": []
    },
    {
      "cell_type": "code",
      "source": [
        "#Contando o número de valores ausentes (NaN) em cada coluna do DataFrame vendas_produtos\n",
        "vendas_produtos.isna().sum()"
      ],
      "metadata": {
        "colab": {
          "base_uri": "https://localhost:8080/"
        },
        "id": "PGgSZeM--ys0",
        "outputId": "c12060a7-87fc-428e-8d88-fa6cc608a5a2"
      },
      "execution_count": null,
      "outputs": [
        {
          "output_type": "execute_result",
          "data": {
            "text/plain": [
              "Produto           0\n",
              "Quantidade        0\n",
              "Preco_Unitario    0\n",
              "Valor_Total       0\n",
              "Data              0\n",
              "Estado            0\n",
              "dtype: int64"
            ]
          },
          "metadata": {},
          "execution_count": 15
        }
      ]
    },
    {
      "cell_type": "code",
      "source": [
        "#contando o número de linhas duplicadas no DataFrame\n",
        "vendas_produtos.duplicated().sum()"
      ],
      "metadata": {
        "colab": {
          "base_uri": "https://localhost:8080/"
        },
        "id": "16RMd_nq_ckE",
        "outputId": "2bb82165-62bb-4b28-db15-99aaa7ce9b34"
      },
      "execution_count": null,
      "outputs": [
        {
          "output_type": "execute_result",
          "data": {
            "text/plain": [
              "31"
            ]
          },
          "metadata": {},
          "execution_count": 16
        }
      ]
    },
    {
      "cell_type": "code",
      "source": [
        "# removendo linhas duplicadas no DataFrame\n",
        "vendas_produtos.drop_duplicates(inplace=True)"
      ],
      "metadata": {
        "id": "MPJxHd0n_wKG"
      },
      "execution_count": null,
      "outputs": []
    },
    {
      "cell_type": "markdown",
      "source": [
        "# Analise do trabalho"
      ],
      "metadata": {
        "id": "RjWAeg2J-6re"
      }
    },
    {
      "cell_type": "markdown",
      "source": [
        "- Qual é a média do valor das vendas de todos os produtos destinados ao Estado de São Paulo (SP)?"
      ],
      "metadata": {
        "id": "H1AZ-7k3BU1J"
      }
    },
    {
      "cell_type": "code",
      "source": [
        "vendas_produtos[vendas_produtos['Estado']=='SP']['Valor_Total'].mean()"
      ],
      "metadata": {
        "colab": {
          "base_uri": "https://localhost:8080/"
        },
        "id": "pbd_G5TT-9Az",
        "outputId": "757293c5-b483-4eb1-b53f-76453efde194"
      },
      "execution_count": null,
      "outputs": [
        {
          "output_type": "execute_result",
          "data": {
            "text/plain": [
              "111.33142105263157"
            ]
          },
          "metadata": {},
          "execution_count": 30
        }
      ]
    },
    {
      "cell_type": "markdown",
      "source": [
        "- Qual é o desvio padrão da quantidade unitária para todos os produtos vendidos no Estado de Pernambuco (PE)?"
      ],
      "metadata": {
        "id": "xYtULxSPECCJ"
      }
    },
    {
      "cell_type": "code",
      "source": [
        "vendas_produtos[vendas_produtos['Estado']=='PE']['Quantidade'].std()"
      ],
      "metadata": {
        "colab": {
          "base_uri": "https://localhost:8080/"
        },
        "id": "c1a25RFbDNbt",
        "outputId": "4eeb4903-bcb6-414b-d2f4-2fc54170dd62"
      },
      "execution_count": null,
      "outputs": [
        {
          "output_type": "execute_result",
          "data": {
            "text/plain": [
              "2.880144017468327"
            ]
          },
          "metadata": {},
          "execution_count": 31
        }
      ]
    },
    {
      "cell_type": "markdown",
      "source": [
        "- Qual é o valor máximo da venda para os produtos vendidos no Estado de Santa Catarina (SC)?"
      ],
      "metadata": {
        "id": "0bXUt_NaHJdd"
      }
    },
    {
      "cell_type": "code",
      "source": [
        "vendas_produtos[vendas_produtos['Estado']=='SC']['Valor_Total'].max()"
      ],
      "metadata": {
        "colab": {
          "base_uri": "https://localhost:8080/"
        },
        "id": "GjTn_SOSHEZb",
        "outputId": "9e46f9ac-20e0-40ab-b602-540a3b03cf80"
      },
      "execution_count": null,
      "outputs": [
        {
          "output_type": "execute_result",
          "data": {
            "text/plain": [
              "356.2"
            ]
          },
          "metadata": {},
          "execution_count": 32
        }
      ]
    },
    {
      "cell_type": "markdown",
      "source": [
        "- Faça um somatório do valor da venda de todos os produtos vendidos cujo o nome é Produto A. Em seguida, responda: qual o valor do somatório obtido?"
      ],
      "metadata": {
        "id": "gSd2a9ENH0Ki"
      }
    },
    {
      "cell_type": "code",
      "source": [
        "vendas_produtos[vendas_produtos['Produto']=='Produto 1']['Valor_Total'].sum()"
      ],
      "metadata": {
        "colab": {
          "base_uri": "https://localhost:8080/"
        },
        "id": "jK1ZBsg_HyhY",
        "outputId": "3601423b-00dc-40b3-e596-b8bfb11b3a14"
      },
      "execution_count": null,
      "outputs": [
        {
          "output_type": "execute_result",
          "data": {
            "text/plain": [
              "11468.650000000001"
            ]
          },
          "metadata": {},
          "execution_count": 33
        }
      ]
    },
    {
      "cell_type": "markdown",
      "source": [
        "- Calcule a soma da coluna \"Quantidade\" para todos os produtos e responda: qual produto teve o maior total de unidades vendidas?"
      ],
      "metadata": {
        "id": "O0LzXBzAIHs1"
      }
    },
    {
      "cell_type": "code",
      "source": [
        "vendas_produtos.groupby('Produto')['Quantidade'].sum().sort_values(ascending=False)"
      ],
      "metadata": {
        "colab": {
          "base_uri": "https://localhost:8080/"
        },
        "id": "3Y4SKIOxIJLV",
        "outputId": "ae006c8e-42fe-4769-a041-62de5c158275"
      },
      "execution_count": null,
      "outputs": [
        {
          "output_type": "execute_result",
          "data": {
            "text/plain": [
              "Produto\n",
              "Produto 3     1180\n",
              "Produto 2     1170\n",
              "Produto 5     1163\n",
              "Produto 6     1163\n",
              "Produto 1     1117\n",
              "Produto 10    1074\n",
              "Produto 8     1036\n",
              "Produto 4     1006\n",
              "Produto 7      993\n",
              "Produto 9      987\n",
              "Name: Quantidade, dtype: int64"
            ]
          },
          "metadata": {},
          "execution_count": 38
        }
      ]
    },
    {
      "cell_type": "markdown",
      "source": [
        "- Qual é a média da quantidade vendida para o Produto 8 no Estado de Pernambuco (PE)?"
      ],
      "metadata": {
        "id": "5IaNOr1IJX_I"
      }
    },
    {
      "cell_type": "code",
      "source": [
        "vendas_produtos.loc[(vendas_produtos['Estado'] == 'PE') & (vendas_produtos['Produto'] == 'Produto 8'), 'Quantidade'].mean()"
      ],
      "metadata": {
        "colab": {
          "base_uri": "https://localhost:8080/"
        },
        "id": "ftGtcr8pJKkG",
        "outputId": "b75fcf82-a4fb-4d40-904a-e968d43a785b"
      },
      "execution_count": null,
      "outputs": [
        {
          "output_type": "execute_result",
          "data": {
            "text/plain": [
              "5.409090909090909"
            ]
          },
          "metadata": {},
          "execution_count": 41
        }
      ]
    },
    {
      "cell_type": "markdown",
      "source": [
        "- Qual é a soma do valor da venda para todos os produtos vendidos para os estados de MG e SP?"
      ],
      "metadata": {
        "id": "oeppFj3HKcNH"
      }
    },
    {
      "cell_type": "code",
      "source": [
        "vendas_produtos.loc[(vendas_produtos['Estado']=='MG') | (vendas_produtos['Estado']=='SP'),'Valor_Total'].sum()"
      ],
      "metadata": {
        "colab": {
          "base_uri": "https://localhost:8080/"
        },
        "id": "LT-A8VaLKU2i",
        "outputId": "2b167ee2-826f-4446-ad4a-ce6896772437"
      },
      "execution_count": null,
      "outputs": [
        {
          "output_type": "execute_result",
          "data": {
            "text/plain": [
              "43289.45"
            ]
          },
          "metadata": {},
          "execution_count": 44
        }
      ]
    },
    {
      "cell_type": "markdown",
      "source": [
        "- Calcule a média da coluna \"Valor Total\" para todos os produtos que estão disponíveis nos estados de AL, BA, CE, MA, PB, PE, PI, RN, SE. Qual é o valor resultante?"
      ],
      "metadata": {
        "id": "VcdFeS-oLSHG"
      }
    },
    {
      "cell_type": "code",
      "source": [
        "vendas_produtos[vendas_produtos['Estado'].isin(['AL', 'BA', 'CE', 'MA', 'PB', 'PE', 'PI', 'RN', 'SE'])]['Valor_Total'].mean()"
      ],
      "metadata": {
        "colab": {
          "base_uri": "https://localhost:8080/"
        },
        "id": "Hpqec8GKLTHb",
        "outputId": "6d7d9093-c2ec-419c-af80-57808c142d3f"
      },
      "execution_count": null,
      "outputs": [
        {
          "output_type": "execute_result",
          "data": {
            "text/plain": [
              "114.19307570977918"
            ]
          },
          "metadata": {},
          "execution_count": 47
        }
      ]
    },
    {
      "cell_type": "markdown",
      "source": [
        "# Conclusão"
      ],
      "metadata": {
        "id": "SZ7aavgNWAPB"
      }
    },
    {
      "cell_type": "markdown",
      "source": [
        "Dentre os produtos 2, 5, 6, 8 e 10 podemos observar que entre 03 e 10/23 o produto 02 teve o melhor desempenho de vendas com foco no Rio de Janeiro, tendo 37,5% de participação, seguido de:\n",
        "Produto 10 – 20,83% - RS\n",
        "Produto 8 – 16,66% - SP\n",
        "Produto 5 – 12,5% - BA\n",
        "Produto 6 – 12,5% - AM\n",
        "Apesar de terem a mesma participação na quantidade total de vendas no período, o produto 6 no Amazonas teve um valor de vendas em relação ao produto 5 na Bahia, sendo os valores unitários R$10,73 e R$25,39, respectivamente"
      ],
      "metadata": {
        "id": "04tIoTJFWKaf"
      }
    }
  ]
}