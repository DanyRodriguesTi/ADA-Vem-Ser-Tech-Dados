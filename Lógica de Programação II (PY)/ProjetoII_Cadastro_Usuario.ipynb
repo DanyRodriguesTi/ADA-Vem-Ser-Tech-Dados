{
  "nbformat": 4,
  "nbformat_minor": 0,
  "metadata": {
    "colab": {
      "provenance": []
    },
    "kernelspec": {
      "name": "python3",
      "display_name": "Python 3"
    },
    "language_info": {
      "name": "python"
    }
  },
  "cells": [
    {
      "cell_type": "markdown",
      "source": [
        "#Projeto Modulo II , Lógica de Programação PYTHON.::\n",
        "\n",
        "#Cadastro de Usuario\n"
      ],
      "metadata": {
        "id": "ALI-O6_p_I7h"
      }
    },
    {
      "cell_type": "markdown",
      "source": [
        "#Definição das Funções!\n",
        "______________________________________________________________________________"
      ],
      "metadata": {
        "id": "oHFSQ1c7Zh6T"
      }
    },
    {
      "cell_type": "code",
      "source": [
        "import json\n",
        "\n",
        "\n",
        "def lerSalvarArquivo(ler=True, nomeArquivo='projetoModuloII.json'):\n",
        "    try:\n",
        "      with open(\"projetoModuloII.json\", \"r\") as aq: #With garante que o arquivo seja fechado após o bloco indentado.\n",
        "        nomeArquivo = json.load(aq)\n",
        "\n",
        "        for chave, valor in nomeArquivo.items():\n",
        "        # for x, n in m.items():\n",
        "          print(chave, valor)\n",
        "          print('\\n*-------------*---------------*------------------*-------------------*-----------------*-------------------*-----------------*')\n",
        "    except FileNotFoundError:\n",
        "      print(f\"O arquivo '{nomeArquivo}' não foi encontrado.\")\n",
        "\n",
        "    return None\n",
        "\n",
        "### Função para adicionar usuários\n",
        "def addUsuario(**usuario):\n",
        "  id = int(input(\"Digite o ID do Usuario: \"))\n",
        "  nome = input(\"Digite o nome de Usuario: \")\n",
        "  telefone = input(\"Digite o Telefone do Usuario: \")\n",
        "  endereco = input(\"Digite o endereço do Usuario: \")\n",
        "\n",
        "  dicionario = {\n",
        "      'ID': id,\n",
        "      'STATUS': True,\n",
        "      'NOME': nome,\n",
        "      'TELEFONE': telefone,\n",
        "      'ENDEREÇO': endereco\n",
        "  }\n",
        "\n",
        "  with open(\"projetoModuloII.json\", \"r\") as aq:\n",
        "    arquivo = json.load(aq) #Converte de JSON para PYTHON\n",
        "    arquivo[id] = dicionario\n",
        "    with open(\"projetoModuloII.json\", \"w\") as salve:\n",
        "      json.dump(arquivo, salve) #Converte de PYTHON para JSON\n",
        "      print(\"Usuario Salvo com SUCESSO!!!\")\n",
        "\n",
        "\n",
        "\n",
        "### Função para excluir usuários\n",
        "\n",
        "def excluirUsuario(*ids):\n",
        "  id = input(\"Digite o ID do Usuario que deseja EXCLUIR:\")\n",
        "  with open(\"projetoModuloII.json\", \"r\") as pega:\n",
        "    arquivo = json.load(pega)\n",
        "\n",
        "    if id in arquivo:\n",
        "      arquivo.pop(id)\n",
        "      with open(\"projetoModuloII.json\", \"w\") as exclusao:\n",
        "        arquivioEX = json.dump(arquivo, exclusao)\n",
        "        print(\"Usuario foi DELETADO da base de dados!!!\")\n",
        "    else:\n",
        "      print(\"Usuario NÂO Excluido!!!\")\n",
        "\n",
        "\n",
        "### Função para editar usuários\n",
        "def editUsuario(*ids):\n",
        "  id = input(\"Digite o ID do Usuario que deseja Alterar.\")\n",
        "  with open(\"projetoModuloII.json\", \"r\") as pega:\n",
        "    arquivo = json.load(pega)\n",
        "\n",
        "    if id in arquivo:\n",
        "      id = int(input(\"Digite o ID do Usuario: \"))\n",
        "      nome = input(\"Digite o nome de Usuario: \")\n",
        "      telefone = input(\"Digite o Telefone do Usuario: \")\n",
        "      endereco = input(\"Digite o endereço do Usuario: \")\n",
        "\n",
        "      dicionario = {\n",
        "      'ID': id,\n",
        "      'STATUS': True,\n",
        "      'NOME': nome,\n",
        "      'TELEFONE': telefone,\n",
        "      'ENDEREÇO': endereco\n",
        "      }\n",
        "      arquivo[id] = dicionario\n",
        "      with open(\"projetoModuloII.json\", \"w\") as alterecao:\n",
        "        json.dump(arquivo, alterecao)\n",
        "        print(\"Usuario ALTERADO com SUCESSO!!!!\")\n",
        "\n",
        "def exibeUsuario():\n",
        "  return"
      ],
      "metadata": {
        "id": "D7L3mMz-_5Rc"
      },
      "execution_count": 31,
      "outputs": []
    },
    {
      "cell_type": "markdown",
      "source": [
        "#Função Principal do Sistema!\n",
        "________________________________________________________________________________"
      ],
      "metadata": {
        "id": "c2fBAMPSZjY1"
      }
    },
    {
      "cell_type": "code",
      "source": [
        "\n",
        "menu= (\"\"\"\\n1 - Inserir usuário\n",
        "            2 - Excluir usuário\n",
        "            3 - Atualizar usuário\n",
        "            4 - Informações de um usuário\n",
        "            5 - Informações de todos os usuários\n",
        "            6 - Sair \"\"\")\n",
        "\n",
        "print(\"Bem-vindos ao nosso Sistema:\")\n",
        "#print()\n",
        "print(menu)\n",
        "\n",
        "\n",
        "#Função Principal!!!!!!!!\n",
        "def main():\n",
        "\n",
        "    while True:\n",
        "        escolha = int(input(\"\\nEscolha uma opção:\\n\"))\n",
        "        if escolha == 1:\n",
        "          addUsuario()\n",
        "          print(\"Inserir\")\n",
        "        elif escolha == 2:\n",
        "          excluirUsuario()\n",
        "         # print(\"Excluir\")\n",
        "        elif escolha == 3:\n",
        "          editUsuario()\n",
        "          print(\"atualizar\")\n",
        "        elif escolha == 4:\n",
        "          print(\"informação de um usuario\")\n",
        "        elif escolha == 5:\n",
        "          lerSalvarArquivo()\n",
        "         # lerArquivo()\n",
        "        elif escolha == 6:\n",
        "          print(\"Saindo do sistema\")\n",
        "          break\n",
        "\n",
        "        else:\n",
        "          print(\"Escolha uma opção Valida\")\n",
        "\n",
        "main()"
      ],
      "metadata": {
        "colab": {
          "base_uri": "https://localhost:8080/"
        },
        "id": "Y0rjpgP2_Y8P",
        "outputId": "abe37ea0-3c21-4724-d281-c2dc81dfe11f"
      },
      "execution_count": 32,
      "outputs": [
        {
          "output_type": "stream",
          "name": "stdout",
          "text": [
            "Bem-vindos ao nosso Sistema:\n",
            "\n",
            "1 - Inserir usuário\n",
            "            2 - Excluir usuário\n",
            "            3 - Atualizar usuário\n",
            "            4 - Informações de um usuário\n",
            "            5 - Informações de todos os usuários\n",
            "            6 - Sair \n",
            "\n",
            "Escolha uma opção:\n",
            "1\n",
            "Digite o ID do Usuario: 34\n",
            "Digite o nome de Usuario: fg\n",
            "Digite o Telefone do Usuario: 123\n",
            "Digite o endereço do Usuario: fgvd\n",
            "Usuario Salvo com SUCESSO!!!\n",
            "Inserir\n",
            "\n",
            "Escolha uma opção:\n",
            "5\n",
            "1 {'Status': True, 'Nome': 'Henrique', 'Telefone': '78774123', 'Endereço': 'Rua do Python'}\n",
            "\n",
            "*-------------*---------------*------------------*-------------------*-----------------*-------------------*-----------------*\n",
            "2 {'Status': True, 'Nome': 'Sebastião', 'Telefone': '23546312', 'Endereço': 'Modulo II'}\n",
            "\n",
            "*-------------*---------------*------------------*-------------------*-----------------*-------------------*-----------------*\n",
            "3 {'Status': True, 'Nome': 'João', 'Telefone': '45786327', 'Endereço': 'Av. Faria Lima'}\n",
            "\n",
            "*-------------*---------------*------------------*-------------------*-----------------*-------------------*-----------------*\n",
            "4 {'Status': False, 'Nome': 'Maria', 'Telefone': '74125823', 'Endereço': 'Av. Paulista'}\n",
            "\n",
            "*-------------*---------------*------------------*-------------------*-----------------*-------------------*-----------------*\n",
            "5 {'Status': False, 'Nome': 'Juliana', 'Telefone': '41230578', 'Endereço': 'Rua das Flores'}\n",
            "\n",
            "*-------------*---------------*------------------*-------------------*-----------------*-------------------*-----------------*\n",
            "34 {'ID': 34, 'STATUS': True, 'NOME': 'fg', 'TELEFONE': '123', 'ENDEREÇO': 'fgvd'}\n",
            "\n",
            "*-------------*---------------*------------------*-------------------*-----------------*-------------------*-----------------*\n",
            "\n",
            "Escolha uma opção:\n",
            "6\n",
            "Saindo do sistema\n"
          ]
        }
      ]
    }
  ]
}