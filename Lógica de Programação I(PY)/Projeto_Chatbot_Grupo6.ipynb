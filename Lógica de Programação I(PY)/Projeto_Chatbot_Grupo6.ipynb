{
  "nbformat": 4,
  "nbformat_minor": 0,
  "metadata": {
    "colab": {
      "provenance": []
    },
    "kernelspec": {
      "name": "python3",
      "display_name": "Python 3"
    },
    "language_info": {
      "name": "python"
    }
  },
  "cells": [
    {
      "cell_type": "markdown",
      "source": [
        "# Dados Iniciais\n",
        "- pizzas_disponiveis: pepperoni, queijo e calabresa\n",
        "- preco_calabresa = 70.0\n",
        "- preco_queijo = 50.0\n",
        "- preco_pepperoni = 80.0\n",
        "\n",
        "### Fluxo Principal\n",
        "- Inicie o pedido chamando perguntando o pedido do cliente\n",
        "- Verifique se a pizza escolhida está disponível no menu.\n",
        "    - Caso verdadeiro, confirme o preço da pizza.\n",
        "    - Caso falso, informe que não está no menu e peça que escolha outra opção\n",
        "- continue perguntando ao cliente se deseja fazer outro pedido.\n",
        "- Quando o cliente não quiser fazer mais pedidos, encerre o loop.\n",
        "- Ao final do pedido, exiba um resumo com as pizzas pedidas e o valor total do pedido."
      ],
      "metadata": {
        "id": "5O_acuUOCXGp"
      }
    },
    {
      "cell_type": "markdown",
      "source": [
        "# ***Projeto de Chatbot para Anotação de Pedidos em um Restaurante de Pizza***::"
      ],
      "metadata": {
        "id": "HgkGB52_-zJC"
      }
    },
    {
      "cell_type": "code",
      "source": [
        "def linhas():\n",
        "    # Função para imprimir uma linha visual no console\n",
        "    print(\"_\" * 20)  # Melhoramento visual do programa\n",
        "\n",
        "def chatbot():\n",
        "    # Definindo as pizzas disponíveis e seus valores\n",
        "    pizzas_disponiveis = [\"Pepperoni\", \"Queijo\", \"Calabresa\"]\n",
        "    valores_pizza = [70, 50, 80]\n",
        "    pizzas_escolhidas = []  # Lista para rastrear as pizzas escolhidas pelo cliente\n",
        "    valor_compra = 0  # Variável para rastrear o valor total da compra\n",
        "\n",
        "\n",
        "    # Mensagem de boas-vindas\n",
        "    print(\"Chatbot: Olá! Bem-vindo a PIZZARIA PYTHON \\n Sou o assistente virtual\")\n",
        "    linhas()\n",
        "    #Solicita dados do Cliente\n",
        "    nome = input(\"Chatbot: Digite seu nome:\")\n",
        "    endereco = input(\"Cahtbot: Digite o endereço para entrega:\")\n",
        "\n",
        "    linhas()  # Chama a função para exibir uma linha visual\n",
        "    print(f\"Chatbot: {nome} Vamos começar a fazer o seu pedido!\")\n",
        "\n",
        "    while True:\n",
        "        # Solicita ao cliente que escolha uma pizza ou saia do programa\n",
        "        pedido = input(\n",
        "            f\"Cahtbot: Qual pizza você deseja escolher {pizzas_disponiveis}? Digite 'Sair' para encerrar o pedido: \"\n",
        "        ).strip().title()  # Utilizado SPLIT para retirar possíveis espaços em brancos do usuário ou quebras de linha\n",
        "        print(f\"{nome} : {pedido}\")\n",
        "\n",
        "        if pedido == \"Sair\":\n",
        "            if not pizzas_escolhidas:  # Verifica se o cliente saiu sem pedir pizza\n",
        "                print(\"Chatbot: Pedido cancelado. Ficamos no aguardo da sua volta, querido cliente!\")\n",
        "            else:\n",
        "                print(\"\\n******Seu PEDIDO*****\")\n",
        "                print(f\"Cliente: {nome}\")\n",
        "                print(f\"Endereço para Entrega: {endereco}\")\n",
        "                print(f\"O valor total da compra é R${valor_compra}.\")\n",
        "                print(\"Sabores escolhidos:\")\n",
        "\n",
        "                for pizza in pizzas_escolhidas:\n",
        "                    quantidade, sabor = pizza.split(\"x \")\n",
        "                    print(f\"{quantidade} pizza(s) de {sabor}\")\n",
        "                print(\"Chatbot: Foi um prazer te atender. Volte sempre que precisar, estaremos à sua disposição!!!!\")\n",
        "\n",
        "            break\n",
        "\n",
        "        if pedido in pizzas_disponiveis:\n",
        "            # Solicita a quantidade desejada da pizza escolhida\n",
        "            quantidade = input(f\"Chatbot: Quantas pizzas de {pedido} você deseja? \")\n",
        "            print(f\"{nome}: {quantidade}\")\n",
        "            if quantidade.isdigit():\n",
        "                quantidade = int(quantidade)\n",
        "                if quantidade > 0:\n",
        "                    index = pizzas_disponiveis.index(pedido)\n",
        "                    preco = valores_pizza[index]\n",
        "                    valor_pedido = preco * quantidade\n",
        "\n",
        "                    # Exibe o pedido e atualiza o valor total da compra\n",
        "\n",
        "                    print(f\"Chatbot: Você solicitou {quantidade} pizza(s) de {pedido} no valor de R${valor_pedido}.\")\n",
        "                    pizzas_escolhidas.append(f\"{quantidade}x {pedido}\")\n",
        "                    valor_compra += valor_pedido\n",
        "\n",
        "\n",
        "                    linhas()  # Chama a função para exibir uma linha visual\n",
        "                else:\n",
        "                    print(\"Chatbot: Opção Inválida, digite um número válido, não vacila).\")\n",
        "            else:\n",
        "                print(\"Chatbot: Opção Inválida, digite um número certo para a quantidade.\")\n",
        "        else:\n",
        "            print(f\"Chatbot: Desculpe, esse sabor não temos. Hoje na casa temos {pizzas_disponiveis}.\")\n",
        "\n",
        "\n",
        "\n",
        "\n",
        "# Chama a função chatbot para iniciar o programa\n",
        "chatbot()\n"
      ],
      "metadata": {
        "id": "mZaRj5Sz88GF",
        "colab": {
          "base_uri": "https://localhost:8080/"
        },
        "outputId": "1982f0f1-064f-4636-a5d5-bfd48236d40b"
      },
      "execution_count": 1,
      "outputs": [
        {
          "output_type": "stream",
          "name": "stdout",
          "text": [
            "Chatbot: Olá! Bem-vindo a PIZZARIA PYTHON \n",
            " Sou o assistente virtual\n",
            "____________________\n",
            "Chatbot: Digite seu nome:Daniella\n",
            "Cahtbot: Digite o endereço para entrega:Rua das graças - Recife-PE\n",
            "____________________\n",
            "Chatbot: Daniella Vamos começar a fazer o seu pedido!\n",
            "Cahtbot: Qual pizza você deseja escolher ['Pepperoni', 'Queijo', 'Calabresa']? Digite 'Sair' para encerrar o pedido: pepperoni\n",
            "Daniella : Pepperoni\n",
            "Chatbot: Quantas pizzas de Pepperoni você deseja? 2\n",
            "Daniella: 2\n",
            "Chatbot: Você solicitou 2 pizza(s) de Pepperoni no valor de R$140.\n",
            "____________________\n",
            "Cahtbot: Qual pizza você deseja escolher ['Pepperoni', 'Queijo', 'Calabresa']? Digite 'Sair' para encerrar o pedido: sair\n",
            "Daniella : Sair\n",
            "\n",
            "******Seu PEDIDO*****\n",
            "Cliente: Daniella\n",
            "Endereço para Entrega: Rua das graças - Recife-PE\n",
            "O valor total da compra é R$140.\n",
            "Sabores escolhidos:\n",
            "2 pizza(s) de Pepperoni\n",
            "Chatbot: Foi um prazer te atender. Volte sempre que precisar, estaremos à sua disposição!!!!\n"
          ]
        }
      ]
    }
  ]
}